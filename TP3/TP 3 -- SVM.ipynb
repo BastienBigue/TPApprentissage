{
 "cells": [
  {
   "cell_type": "markdown",
   "metadata": {
    "collapsed": true
   },
   "source": [
    "TP 3 -- Apprentissage par Machines à Vecteurs de Support sous sklearn"
   ]
  },
  {
   "cell_type": "code",
   "execution_count": 2,
   "metadata": {},
   "outputs": [
    {
     "name": "stderr",
     "output_type": "stream",
     "text": [
      "/usr/local/insa/anaconda/lib/python3.6/site-packages/sklearn/model_selection/_split.py:2026: FutureWarning: From version 0.21, test_size will always complement train_size unless both are specified.\n",
      "  FutureWarning)\n"
     ]
    }
   ],
   "source": [
    "from sklearn.svm import SVC\n",
    "from sklearn.datasets import fetch_mldata\n",
    "from sklearn.model_selection import train_test_split\n",
    "import numpy as np\n",
    "\n",
    "\n",
    "mnist = fetch_mldata('MNIST original')\n",
    "\n",
    "#On réduit la taille de l'échantillon, trop long sinon...\n",
    "random = np.random.randint(70000, size=5000)\n",
    "data = mnist.data[random]\n",
    "target = mnist.target[random]\n",
    "\n",
    "images_train, images_test, target_train, target_test = train_test_split(data, target, train_size = 0.7)\n"
   ]
  },
  {
   "cell_type": "code",
   "execution_count": 3,
   "metadata": {},
   "outputs": [
    {
     "name": "stdout",
     "output_type": "stream",
     "text": [
      "---- linear ----\n",
      "Apprentissage...\n",
      "Prédiction...\n",
      "---- poly ----\n",
      "Apprentissage...\n",
      "Prédiction...\n",
      "---- rbf ----\n",
      "Apprentissage...\n",
      "Prédiction...\n",
      "---- sigmoid ----\n",
      "Apprentissage...\n",
      "Prédiction...\n",
      "{'linear': {'duree': 2.261526, 'score': 0.90000000000000002}, 'poly': {'duree': 3.1921939999999998, 'score': 0.93400000000000005}, 'rbf': {'duree': 18.060753000000002, 'score': 0.14999999999999999}, 'sigmoid': {'duree': 17.079110999999997, 'score': 0.11133333333333334}}\n"
     ]
    }
   ],
   "source": [
    "from sklearn.metrics import precision_score\n",
    "import time\n",
    "kernels = ['linear', 'poly', 'rbf', 'sigmoid']\n",
    "\n",
    "predictions = {}\n",
    "for kernel in kernels: \n",
    "    print(\"----\", kernel, \"----\")\n",
    "    classifier = SVC(kernel=kernel)\n",
    "    print(\"Apprentissage...\")\n",
    "    debut = time.clock()\n",
    "    classifier.fit(images_train, target_train)\n",
    "    fin = time.clock()\n",
    "    duree = fin-debut\n",
    "    print(\"Prédiction...\")\n",
    "    prediction = classifier.predict(images_test)\n",
    "    \n",
    "    predictions[kernel] = {}\n",
    "    predictions[kernel]['duree'] = duree \n",
    "    predictions[kernel]['score'] = precision_score(target_test, prediction, average='micro')\n",
    "    \n",
    "print(predictions)\n",
    "\n",
    "#Does not work for precomputed kernel."
   ]
  },
  {
   "cell_type": "code",
   "execution_count": 4,
   "metadata": {},
   "outputs": [
    {
     "name": "stdout",
     "output_type": "stream",
     "text": [
      "2.261526\n",
      "0.9\n",
      "3.1921939999999998\n",
      "0.934\n",
      "18.060753000000002\n",
      "0.15\n",
      "17.079110999999997\n",
      "0.111333333333\n"
     ]
    }
   ],
   "source": [
    "for i in kernels:\n",
    "    print(predictions[i]['duree'])\n",
    "    print(predictions[i]['score'])"
   ]
  },
  {
   "cell_type": "markdown",
   "metadata": {
    "collapsed": true
   },
   "source": [
    "## Faire varier le paramètre de tolérance aux erreurs C "
   ]
  },
  {
   "cell_type": "code",
   "execution_count": 20,
   "metadata": {},
   "outputs": [
    {
     "name": "stdout",
     "output_type": "stream",
     "text": [
      "Apprentissage...\n",
      "Prédiction...\n",
      "Apprentissage...\n",
      "Prédiction...\n",
      "Apprentissage...\n",
      "Prédiction...\n",
      "Apprentissage...\n",
      "Prédiction...\n",
      "Apprentissage...\n",
      "Prédiction...\n",
      "Apprentissage...\n",
      "Prédiction...\n",
      "Apprentissage...\n",
      "Prédiction...\n",
      "Apprentissage...\n",
      "Prédiction...\n",
      "Apprentissage...\n",
      "Prédiction...\n",
      "Apprentissage...\n",
      "Prédiction...\n",
      "[{'c': 17.30824490648176, 'score': 0.93400000000000005}, {'c': 7.5422729411153755, 'score': 0.93400000000000005}, {'c': 1.1072826246781853, 'score': 0.93400000000000005}, {'c': 14.390685144160047, 'score': 0.93400000000000005}, {'c': 9.919465799808766, 'score': 0.93400000000000005}, {'c': 20.599080298967202, 'score': 0.93400000000000005}, {'c': 33.24283702958198, 'score': 0.93400000000000005}, {'c': 17.0065023505949, 'score': 0.93400000000000005}, {'c': 12.050431018506496, 'score': 0.93400000000000005}, {'c': 6.487471733531032, 'score': 0.93400000000000005}]\n"
     ]
    }
   ],
   "source": [
    "scores = []\n",
    "for i in range(10):\n",
    "    c = np.random.uniform(0, 40)\n",
    "    classifier = SVC(kernel='poly', C=c)\n",
    "    print(\"Apprentissage...\")\n",
    "    classifier.fit(images_train, target_train)\n",
    "    print(\"Prédiction...\")\n",
    "    prediction = classifier.predict(images_test)\n",
    "    scores.append({})\n",
    "    scores[i]['c'] = c \n",
    "    scores[i]['score'] = precision_score(target_test, prediction, average='micro')\n",
    "print(scores)"
   ]
  },
  {
   "cell_type": "markdown",
   "metadata": {},
   "source": [
    "Faire varier gamma"
   ]
  },
  {
   "cell_type": "code",
   "execution_count": 21,
   "metadata": {},
   "outputs": [
    {
     "name": "stdout",
     "output_type": "stream",
     "text": [
      "[0.065999999999999948, 0.065999999999999948, 0.065999999999999948, 0.065999999999999948, 0.065999999999999948, 0.065999999999999948, 0.065999999999999948, 0.065999999999999948, 0.065999999999999948, 0.065999999999999948]\n",
      "[17.30824490648176, 7.5422729411153755, 1.1072826246781853, 14.390685144160047, 9.919465799808766, 20.599080298967202, 33.24283702958198, 17.0065023505949, 12.050431018506496, 6.487471733531032]\n"
     ]
    },
    {
     "data": {
      "image/png": "[encoded data removed]",
      "text/plain": [
       "<matplotlib.figure.Figure at 0x7f1b0b990b70>"
      ]
     },
     "metadata": {},
     "output_type": "display_data"
    }
   ],
   "source": [
    "import matplotlib.pyplot as plt\n",
    "\n",
    "erreurs = []\n",
    "cs = []\n",
    "for c in range(len(scores)):\n",
    "    erreurs.append(1 - scores[c]['score'])\n",
    "    cs.append(scores[c]['c'])\n",
    "print(erreurs)\n",
    "print(cs)\n",
    "\n",
    "plt.plot(cs, erreurs, 'bo')\n",
    "plt.ylabel('erreurs')\n",
    "plt.xlabel('cs')\n",
    "plt.show()"
   ]
  },
  {
   "cell_type": "code",
   "execution_count": 27,
   "metadata": {},
   "outputs": [
    {
     "name": "stdout",
     "output_type": "stream",
     "text": [
      "Apprentissage...\n",
      "Prédiction...\n",
      "Apprentissage...\n",
      "Prédiction...\n",
      "Apprentissage...\n",
      "Prédiction...\n",
      "Apprentissage...\n",
      "Prédiction...\n",
      "Apprentissage...\n",
      "Prédiction...\n",
      "Apprentissage...\n",
      "Prédiction...\n",
      "Apprentissage...\n",
      "Prédiction...\n",
      "Apprentissage...\n",
      "Prédiction...\n",
      "Apprentissage...\n",
      "Prédiction...\n",
      "Apprentissage...\n",
      "Prédiction...\n",
      "[]\n",
      "[0.93400000000000005, 0.93400000000000005, 0.93400000000000005, 0.93400000000000005, 0.93400000000000005, 0.93400000000000005, 0.93400000000000005, 0.93400000000000005, 0.93400000000000005, 0.93400000000000005]\n",
      "[3.980325737526713e-06, 0.0002848665872683115, 0.00044536920286534446, 0.0009173634382605925, 4.371493511011471e-05, 0.0003855265237871265, 0.0004692307174208624, 0.0009738181233999385, 0.0006995955159501518, 0.0008228568189727314]\n"
     ]
    },
    {
     "data": {
      "image/png": "[encoded data removed]",
      "text/plain": [
       "<matplotlib.figure.Figure at 0x7f1b096e4cf8>"
      ]
     },
     "metadata": {},
     "output_type": "display_data"
    }
   ],
   "source": [
    "hm = []\n",
    "for i in range(10):\n",
    "    gamma = np.random.uniform(0, 0.001)\n",
    "    classifier = SVC(kernel='poly', gamma=gamma)\n",
    "    print(\"Apprentissage...\")\n",
    "    classifier.fit(images_train, target_train)\n",
    "    print(\"Prédiction...\")\n",
    "    prediction = classifier.predict(images_test)\n",
    "    hm.append({})\n",
    "    hm[i]['gamma'] = gamma\n",
    "    hm[i]['score'] = precision_score(target_test, prediction, average='micro')\n",
    "\n",
    "print(scores)\n",
    "\n",
    "scores = []\n",
    "gammas = []\n",
    "for c in hm:\n",
    "    scores.append(c['score'])\n",
    "    gammas.append(c['gamma'])\n",
    "print(scores)\n",
    "print(gammas)\n",
    "\n",
    "plt.plot(gammas, scores, 'bo')\n",
    "plt.ylabel('gammas')\n",
    "plt.xlabel('scores')\n",
    "plt.show()"
   ]
  },
  {
   "cell_type": "markdown",
   "metadata": {},
   "source": [
    "GridSearchCV"
   ]
  },
  {
   "cell_type": "code",
   "execution_count": 36,
   "metadata": {},
   "outputs": [
    {
     "ename": "AttributeError",
     "evalue": "'GridSearchCV' object has no attribute 'best_estimator'",
     "output_type": "error",
     "traceback": [
      "\u001b[0;31m---------------------------------------------------------------------------\u001b[0m",
      "\u001b[0;31mAttributeError\u001b[0m                            Traceback (most recent call last)",
      "\u001b[0;32m<ipython-input-36-35ea5a87bf46>\u001b[0m in \u001b[0;36m<module>\u001b[0;34m()\u001b[0m\n\u001b[1;32m      7\u001b[0m \u001b[0mclf\u001b[0m\u001b[0;34m.\u001b[0m\u001b[0mfit\u001b[0m\u001b[0;34m(\u001b[0m\u001b[0mimages_train\u001b[0m\u001b[0;34m,\u001b[0m \u001b[0mtarget_train\u001b[0m\u001b[0;34m)\u001b[0m\u001b[0;34m\u001b[0m\u001b[0m\n\u001b[1;32m      8\u001b[0m \u001b[0;34m\u001b[0m\u001b[0m\n\u001b[0;32m----> 9\u001b[0;31m \u001b[0mprint\u001b[0m\u001b[0;34m(\u001b[0m\u001b[0mclf\u001b[0m\u001b[0;34m.\u001b[0m\u001b[0mbest_estimator\u001b[0m\u001b[0;34m)\u001b[0m\u001b[0;34m\u001b[0m\u001b[0m\n\u001b[0m",
      "\u001b[0;31mAttributeError\u001b[0m: 'GridSearchCV' object has no attribute 'best_estimator'"
     ]
    }
   ],
   "source": [
    "from sklearn.model_selection import GridSearchCV\n",
    "\n",
    "parameters = {'kernel':('linear', 'poly'), 'C':[0.000001, 5], 'gamma':[0,10]}\n",
    "svc = SVC()\n",
    "clf = GridSearchCV(svc, parameters)\n",
    "\n",
    "clf.fit(images_train, target_train)\n",
    "\n"
   ]
  },
  {
   "cell_type": "code",
   "execution_count": 43,
   "metadata": {},
   "outputs": [
    {
     "name": "stdout",
     "output_type": "stream",
     "text": [
      "SVC(C=1e-06, cache_size=200, class_weight=None, coef0=0.0,\n",
      "  decision_function_shape='ovr', degree=3, gamma=10, kernel='poly',\n",
      "  max_iter=-1, probability=False, random_state=None, shrinking=True,\n",
      "  tol=0.001, verbose=False)\n",
      "[[120   2   0   0   0   3   0   0   0   0]\n",
      " [  0 167   0   0   0   0   0   0   0   0]\n",
      " [  0   0 129   1   1   0   0   4   0   0]\n",
      " [  0   3   5 139   0   6   0   2   2   0]\n",
      " [  0   1   1   0 132   0   0   0   2   6]\n",
      " [  3   1   0   3   0 134   1   0   0   2]\n",
      " [  3   5   0   0   0   1 161   0   0   0]\n",
      " [  0   0   0   0   1   0   0 168   0   2]\n",
      " [  2   2   6   3   3   0   0   0 130   0]\n",
      " [  4   1   1   4   3   5   0   4   0 121]]\n"
     ]
    }
   ],
   "source": [
    "print(clf.best_estimator_)\n",
    "\n",
    "from sklearn.metrics import confusion_matrix\n",
    "svc = SVC()\n",
    "prediction = clf.predict(images_test)\n",
    "cm = confusion_matrix(target_test, prediction)\n",
    "\n",
    "print(cm)\n"
   ]
  },
  {
   "cell_type": "code",
   "execution_count": null,
   "metadata": {
    "collapsed": true
   },
   "outputs": [],
   "source": []
  }
 ],
 "metadata": {
  "kernelspec": {
   "display_name": "Python [default]",
   "language": "python",
   "name": "python3"
  },
  "language_info": {
   "codemirror_mode": {
    "name": "ipython",
    "version": 3
   },
   "file_extension": ".py",
   "mimetype": "text/x-python",
   "name": "python",
   "nbconvert_exporter": "python",
   "pygments_lexer": "ipython3",
   "version": "3.6.1"
  }
 },
 "nbformat": 4,
 "nbformat_minor": 2
}

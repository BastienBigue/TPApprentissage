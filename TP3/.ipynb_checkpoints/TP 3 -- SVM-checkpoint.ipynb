{
 "cells": [
  {
   "cell_type": "markdown",
   "metadata": {
    "collapsed": true
   },
   "source": [
    "TP 3 -- Apprentissage par Machines à Vecteurs de Support sous sklearn"
   ]
  },
  {
   "cell_type": "code",
   "execution_count": 2,
   "metadata": {},
   "outputs": [
    {
     "name": "stderr",
     "output_type": "stream",
     "text": [
      "/usr/local/insa/anaconda/lib/python3.6/site-packages/sklearn/model_selection/_split.py:2026: FutureWarning: From version 0.21, test_size will always complement train_size unless both are specified.\n",
      "  FutureWarning)\n"
     ]
    }
   ],
   "source": [
    "from sklearn.svm import SVC\n",
    "from sklearn.datasets import fetch_mldata\n",
    "from sklearn.model_selection import train_test_split\n",
    "import numpy as np\n",
    "\n",
    "\n",
    "mnist = fetch_mldata('MNIST original')\n",
    "\n",
    "#On réduit la taille de l'échantillon, trop long sinon...\n",
    "random = np.random.randint(70000, size=5000)\n",
    "data = mnist.data[random]\n",
    "target = mnist.target[random]\n",
    "\n",
    "images_train, images_test, target_train, target_test = train_test_split(data, target, train_size = 0.7)\n"
   ]
  },
  {
   "cell_type": "code",
   "execution_count": 3,
   "metadata": {},
   "outputs": [
    {
     "name": "stdout",
     "output_type": "stream",
     "text": [
      "---- linear ----\n",
      "Apprentissage...\n",
      "Prédiction...\n",
      "---- poly ----\n",
      "Apprentissage...\n",
      "Prédiction...\n",
      "---- rbf ----\n",
      "Apprentissage...\n",
      "Prédiction...\n",
      "---- sigmoid ----\n",
      "Apprentissage...\n",
      "Prédiction...\n",
      "{'linear': {'duree': 2.261526, 'score': 0.90000000000000002}, 'poly': {'duree': 3.1921939999999998, 'score': 0.93400000000000005}, 'rbf': {'duree': 18.060753000000002, 'score': 0.14999999999999999}, 'sigmoid': {'duree': 17.079110999999997, 'score': 0.11133333333333334}}\n"
     ]
    }
   ],
   "source": [
    "from sklearn.metrics import precision_score\n",
    "import time\n",
    "kernels = ['linear', 'poly', 'rbf', 'sigmoid']\n",
    "\n",
    "predictions = {}\n",
    "for kernel in kernels: \n",
    "    print(\"----\", kernel, \"----\")\n",
    "    classifier = SVC(kernel=kernel)\n",
    "    print(\"Apprentissage...\")\n",
    "    debut = time.clock()\n",
    "    classifier.fit(images_train, target_train)\n",
    "    fin = time.clock()\n",
    "    duree = fin-debut\n",
    "    print(\"Prédiction...\")\n",
    "    prediction = classifier.predict(images_test)\n",
    "    \n",
    "    predictions[kernel] = {}\n",
    "    predictions[kernel]['duree'] = duree \n",
    "    predictions[kernel]['score'] = precision_score(target_test, prediction, average='micro')\n",
    "    \n",
    "print(predictions)\n",
    "\n",
    "#Does not work for precomputed kernel."
   ]
  },
  {
   "cell_type": "code",
   "execution_count": 4,
   "metadata": {},
   "outputs": [
    {
     "name": "stdout",
     "output_type": "stream",
     "text": [
      "2.261526\n",
      "0.9\n",
      "3.1921939999999998\n",
      "0.934\n",
      "18.060753000000002\n",
      "0.15\n",
      "17.079110999999997\n",
      "0.111333333333\n"
     ]
    }
   ],
   "source": [
    "for i in kernels:\n",
    "    print(predictions[i]['duree'])\n",
    "    print(predictions[i]['score'])"
   ]
  },
  {
   "cell_type": "markdown",
   "metadata": {
    "collapsed": true
   },
   "source": [
    "Faire varier le paramètre de tolérance aux erreurs C "
   ]
  },
  {
   "cell_type": "code",
   "execution_count": 20,
   "metadata": {},
   "outputs": [
    {
     "name": "stdout",
     "output_type": "stream",
     "text": [
      "Apprentissage...\n",
      "Prédiction...\n",
      "Apprentissage...\n",
      "Prédiction...\n",
      "Apprentissage...\n",
      "Prédiction...\n",
      "Apprentissage...\n",
      "Prédiction...\n",
      "Apprentissage...\n",
      "Prédiction...\n",
      "Apprentissage...\n",
      "Prédiction...\n",
      "Apprentissage...\n",
      "Prédiction...\n",
      "Apprentissage...\n",
      "Prédiction...\n",
      "Apprentissage...\n",
      "Prédiction...\n",
      "Apprentissage...\n",
      "Prédiction...\n",
      "[{'c': 17.30824490648176, 'score': 0.93400000000000005}, {'c': 7.5422729411153755, 'score': 0.93400000000000005}, {'c': 1.1072826246781853, 'score': 0.93400000000000005}, {'c': 14.390685144160047, 'score': 0.93400000000000005}, {'c': 9.919465799808766, 'score': 0.93400000000000005}, {'c': 20.599080298967202, 'score': 0.93400000000000005}, {'c': 33.24283702958198, 'score': 0.93400000000000005}, {'c': 17.0065023505949, 'score': 0.93400000000000005}, {'c': 12.050431018506496, 'score': 0.93400000000000005}, {'c': 6.487471733531032, 'score': 0.93400000000000005}]\n"
     ]
    }
   ],
   "source": [
    "scores = []\n",
    "for i in range(10):\n",
    "    c = np.random.uniform(0, 40)\n",
    "    classifier = SVC(kernel='poly', C=c)\n",
    "    print(\"Apprentissage...\")\n",
    "    classifier.fit(images_train, target_train)\n",
    "    print(\"Prédiction...\")\n",
    "    prediction = classifier.predict(images_test)\n",
    "    scores.append({})\n",
    "    scores[i]['c'] = c \n",
    "    scores[i]['score'] = precision_score(target_test, prediction, average='micro')\n",
    "print(scores)"
   ]
  },
  {
   "cell_type": "markdown",
   "metadata": {},
   "source": [
    "Faire varier gamma"
   ]
  },
  {
   "cell_type": "code",
   "execution_count": 21,
   "metadata": {},
   "outputs": [
    {
     "name": "stdout",
     "output_type": "stream",
     "text": [
      "[0.065999999999999948, 0.065999999999999948, 0.065999999999999948, 0.065999999999999948, 0.065999999999999948, 0.065999999999999948, 0.065999999999999948, 0.065999999999999948, 0.065999999999999948, 0.065999999999999948]\n",
      "[17.30824490648176, 7.5422729411153755, 1.1072826246781853, 14.390685144160047, 9.919465799808766, 20.599080298967202, 33.24283702958198, 17.0065023505949, 12.050431018506496, 6.487471733531032]\n"
     ]
    },
    {
     "data": {
      "image/png": "[encoded data removed]",
      "text/plain": [
       "<matplotlib.figure.Figure at 0x7f1b0b990b70>"
      ]
     },
     "metadata": {},
     "output_type": "display_data"
    }
   ],
   "source": [
    "import matplotlib.pyplot as plt\n",
    "\n",
    "erreurs = []\n",
    "cs = []\n",
    "for c in range(len(scores)):\n",
    "    erreurs.append(1 - scores[c]['score'])\n",
    "    cs.append(scores[c]['c'])\n",
    "print(erreurs)\n",
    "print(cs)\n",
    "\n",
    "plt.plot(cs, erreurs, 'bo')\n",
    "plt.ylabel('erreurs')\n",
    "plt.xlabel('cs')\n",
    "plt.show()"
   ]
  },
  {
   "cell_type": "code",
   "execution_count": null,
   "metadata": {},
   "outputs": [
    {
     "name": "stdout",
     "output_type": "stream",
     "text": [
      "Apprentissage...\n",
      "Prédiction...\n",
      "Apprentissage...\n",
      "Prédiction...\n",
      "Apprentissage...\n"
     ]
    }
   ],
   "source": [
    "hm = []\n",
    "for i in range(10):\n",
    "    gamma = np.random.uniform(0, 40)\n",
    "    classifier = SVC(kernel='poly', gamma=gamma)\n",
    "    print(\"Apprentissage...\")\n",
    "    classifier.fit(images_train, target_train)\n",
    "    print(\"Prédiction...\")\n",
    "    prediction = classifier.predict(images_test)\n",
    "    hm.append({})\n",
    "    hm[i]['gamma'] = gamma\n",
    "    hm[i]['score'] = precision_score(target_test, prediction, average='micro')\n",
    "\n",
    "print(scores)\n",
    "\n",
    "scores = []\n",
    "gammas = []\n",
    "for c in hm:\n",
    "    scores.append(c['score'])\n",
    "    gammas.append(c['gamma'])\n",
    "print(scores)\n",
    "print(gammas)\n",
    "\n",
    "plt.plot(gammas, scores, 'bo')\n",
    "plt.ylabel('gammas')\n",
    "plt.xlabel('scores')\n",
    "plt.show()"
   ]
  },
  {
   "cell_type": "markdown",
   "metadata": {},
   "source": [
    "GridSearchCV"
   ]
  },
  {
   "cell_type": "code",
   "execution_count": null,
   "metadata": {
    "collapsed": true
   },
   "outputs": [],
   "source": [
    "from sklearn.model_selection import GridSearchCV"
   ]
  }
 ],
 "metadata": {
  "kernelspec": {
   "display_name": "Python [default]",
   "language": "python",
   "name": "python3"
  },
  "language_info": {
   "codemirror_mode": {
    "name": "ipython",
    "version": 3
   },
   "file_extension": ".py",
   "mimetype": "text/x-python",
   "name": "python",
   "nbconvert_exporter": "python",
   "pygments_lexer": "ipython3",
   "version": "3.6.1"
  }
 },
 "nbformat": 4,
 "nbformat_minor": 2
}
